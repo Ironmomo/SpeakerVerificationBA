{
 "cells": [
  {
   "cell_type": "code",
   "execution_count": 1,
   "metadata": {},
   "outputs": [
    {
     "name": "stdout",
     "output_type": "stream",
     "text": [
      "Time of last sample: 9.9999375\n",
      "Number of samples: 160000\n",
      "Sample rate: 16000\n",
      "Duration of audio: 10.0\n",
      "Shape of audio signal: (160000,)\n",
      "Type of audio signal: <class 'numpy.ndarray'>\n",
      "Data type of audio signal: float64\n",
      "Type of audio tensor: <class 'torch.Tensor'>\n",
      "Data type of audio tensor: torch.float64\n",
      "Shape of audio tensor: torch.Size([160000])\n",
      "Data type of audio tensor: torch.float32\n",
      "Shape of audio tensor: torch.Size([1, 160000])\n",
      "Shape of fbank features: torch.Size([998, 128])\n",
      "Shape of fbank features: torch.Size([1, 998, 128])\n"
     ]
    }
   ],
   "source": [
    "import sys\n",
    "import os\n",
    "import torch\n",
    "import numpy as np\n",
    "from ast_models import ASTModel\n",
    "import soundfile as sf\n",
    "import matplotlib.pyplot as plt\n",
    "import torchaudio\n",
    "\n",
    "# Verify the file path is correct\n",
    "file_path = '/home/bosfab01/SpeakerVerificationBA/data/preprocessed/0a4b5c0f-facc-4d3b-8a41-bc9148d62d95/0_segment_0.flac'\n",
    "try:\n",
    "    audio_signal, sample_rate = sf.read(file_path)\n",
    "except Exception as e:\n",
    "    print(f\"An error occurred while reading the file: {e}\")\n",
    "    raise\n",
    "\n",
    "# Create time array for plotting\n",
    "time = np.arange(len(audio_signal)) / sample_rate\n",
    "\n",
    "# Print information about the audio\n",
    "print(\"Time of last sample:\", time[-1])\n",
    "print(\"Number of samples:\", len(audio_signal))\n",
    "print(\"Sample rate:\", sample_rate)\n",
    "print(\"Duration of audio:\", len(audio_signal) / sample_rate)\n",
    "print(\"Shape of audio signal:\", audio_signal.shape)\n",
    "print(\"Type of audio signal:\", type(audio_signal))\n",
    "print(\"Data type of audio signal:\", audio_signal.dtype)\n",
    "\n",
    "\n",
    "# Convert the NumPy array to a PyTorch tensor\n",
    "audio_tensor = torch.from_numpy(audio_signal)\n",
    "print(\"Type of audio tensor:\", type(audio_tensor))\n",
    "print(\"Data type of audio tensor:\", audio_tensor.dtype)\n",
    "print(\"Shape of audio tensor:\", audio_tensor.shape)\n",
    "\n",
    "# Ensure the tensor is in float32 format (required for most torchaudio operations)\n",
    "audio_tensor = audio_tensor.float()\n",
    "print(\"Data type of audio tensor:\", audio_tensor.dtype)\n",
    "\n",
    "# If your array is not in batch x channels x time format, adjust accordingly\n",
    "# Assuming the audio signal is single-channel and not batched:\n",
    "audio_tensor = audio_tensor.unsqueeze(0)\n",
    "print(\"Shape of audio tensor:\", audio_tensor.shape)\n",
    "\n",
    "# Now call the fbank function\n",
    "fbank_features = torchaudio.compliance.kaldi.fbank(\n",
    "    audio_tensor, \n",
    "    sample_frequency=sample_rate, \n",
    "    htk_compat=True, \n",
    "    use_energy=False, \n",
    "    window_type='hanning', \n",
    "    num_mel_bins=128, \n",
    "    dither=0.0, \n",
    "    frame_shift=10\n",
    ")\n",
    "\n",
    "# Output the shape of the fbank features to confirm\n",
    "print(f\"Shape of fbank features: {fbank_features.shape}\")\n",
    "test_input = fbank_features\n",
    "\n",
    "# normalize fbank features\n",
    "dataset_mean=-3.6925695\n",
    "dataset_std=4.020388\n",
    "test_input = (test_input - dataset_mean) / (2 * dataset_std)\n",
    "\n",
    "# add batch dimension\n",
    "test_input = test_input.unsqueeze(0)\n",
    "print(f\"Shape of fbank features: {test_input.shape}\")\n",
    "\n",
    "# # duplicate input tensor to get a batch of 2\n",
    "# test_input = torch.cat((test_input, test_input), 0)\n",
    "# print(f\"Shape of dublicated fbank features: {test_input.shape}\")"
   ]
  },
  {
   "cell_type": "code",
   "execution_count": 2,
   "metadata": {},
   "outputs": [
    {
     "name": "stdout",
     "output_type": "stream",
     "text": [
      "pretraining patch split stride: frequency=128, time=2\n",
      "pretraining patch shape: frequency=128, time=2\n",
      "pretraining patch array dimension: frequency=1, time=499\n",
      "pretraining number of patches=499\n",
      "cpu\n"
     ]
    }
   ],
   "source": [
    "model = ASTModel(fshape=128, tshape=2, fstride=128, tstride=2, input_fdim=128, input_tdim=998, model_size='base', pretrain_stage=True)\n",
    "model = torch.nn.DataParallel(model)\n",
    "model.load_state_dict(torch.load('/home/bosfab01/SpeakerVerificationBA/pretraining/exp/pretrained-base-f128-t2-b24-lr1e-4-m400-pretrain_joint-asli-original-20240418-211014/models/audio_model.120.pth'))\n",
    "model = model.module\n",
    "model.to('cpu')\n",
    "model.eval()\n",
    "print(next(model.parameters()).device)  # Should print 'cpu'"
   ]
  },
  {
   "cell_type": "code",
   "execution_count": 4,
   "metadata": {},
   "outputs": [],
   "source": [
    "import sys\n",
    "import os\n",
    "import torch\n",
    "import numpy as np\n",
    "from ast_models import ASTModel"
   ]
  },
  {
   "cell_type": "markdown",
   "metadata": {},
   "source": [
    "## average token"
   ]
  },
  {
   "cell_type": "code",
   "execution_count": 5,
   "metadata": {},
   "outputs": [
    {
     "name": "stdout",
     "output_type": "stream",
     "text": [
      "now load a SSL pretrained models from /home/bosfab01/SpeakerVerificationBA/pretraining/exp/pretrained-base-f128-t2-b24-lr1e-4-m400-pretrain_joint-asli-original-20240418-211014/models/audio_model.73.pth\n",
      "pretraining patch split stride: frequency=128, time=2\n",
      "pretraining patch shape: frequency=128, time=2\n",
      "pretraining patch array dimension: frequency=1, time=499\n",
      "pretraining number of patches=499\n",
      "fine-tuning patch split stride: frequncey=128, time=2\n",
      "fine-tuning number of patches=499\n"
     ]
    }
   ],
   "source": [
    "model50 = ASTModel(fshape=128, tshape=2, fstride=128, tstride=2, input_fdim=128, input_tdim=998, model_size='base', pretrain_stage=False, load_pretrained_mdl_path='/home/bosfab01/SpeakerVerificationBA/pretraining/exp/pretrained-base-f128-t2-b24-lr1e-4-m400-pretrain_joint-asli-original-20240418-211014/models/audio_model.73.pth')"
   ]
  },
  {
   "cell_type": "code",
   "execution_count": 6,
   "metadata": {},
   "outputs": [],
   "source": [
    "# test finetuningavgtok()) function\n",
    "with torch.no_grad():\n",
    "    output = model50(test_input, task='ft_avgtok')"
   ]
  },
  {
   "cell_type": "code",
   "execution_count": 7,
   "metadata": {},
   "outputs": [
    {
     "name": "stdout",
     "output_type": "stream",
     "text": [
      "torch.Size([1, 998, 128])\n",
      "torch.Size([1, 527])\n",
      "tensor(0.9921)\n",
      "tensor(-1.5235)\n",
      "tensor(1.8776)\n",
      "tensor(-1.6079)\n"
     ]
    },
    {
     "data": {
      "text/plain": [
       "[<matplotlib.lines.Line2D at 0x7f7bd4169120>]"
      ]
     },
     "execution_count": 7,
     "metadata": {},
     "output_type": "execute_result"
    },
    {
     "data": {
      "image/png": "[encoded data removed]",
      "text/plain": [
       "<Figure size 640x480 with 1 Axes>"
      ]
     },
     "metadata": {},
     "output_type": "display_data"
    }
   ],
   "source": [
    "# compare input and output\n",
    "print(test_input.shape)\n",
    "print(output.shape)\n",
    "print(torch.max(test_input))\n",
    "print(torch.min(test_input))\n",
    "print(torch.max(output))\n",
    "print(torch.min(output))\n",
    "\n",
    "# plot output\n",
    "plt.plot(output.squeeze().cpu().numpy())\n"
   ]
  },
  {
   "cell_type": "code",
   "execution_count": null,
   "metadata": {},
   "outputs": [],
   "source": []
  },
  {
   "cell_type": "markdown",
   "metadata": {},
   "source": [
    "## folding and umfolding"
   ]
  },
  {
   "cell_type": "code",
   "execution_count": 8,
   "metadata": {},
   "outputs": [
    {
     "name": "stdout",
     "output_type": "stream",
     "text": [
      "Input tensor:\n",
      "shape:  torch.Size([1, 1, 4, 14])\n",
      "tensor([[[[ 1.,  2.,  3.,  4.,  5.,  6.,  7.,  8.,  9., 10., 11., 12., 13., 14.],\n",
      "          [15., 16., 17., 18., 19., 20., 21., 22., 23., 24., 25., 26., 27., 28.],\n",
      "          [29., 30., 31., 32., 33., 34., 35., 36., 37., 38., 39., 40., 41., 42.],\n",
      "          [43., 44., 45., 46., 47., 48., 49., 50., 51., 52., 53., 54., 55., 56.]]]])\n",
      "\n",
      "Input tensor unfolded:\n",
      "shape:  torch.Size([1, 8, 7])\n",
      "tensor([[[ 1.,  3.,  5.,  7.,  9., 11., 13.],\n",
      "         [ 2.,  4.,  6.,  8., 10., 12., 14.],\n",
      "         [15., 17., 19., 21., 23., 25., 27.],\n",
      "         [16., 18., 20., 22., 24., 26., 28.],\n",
      "         [29., 31., 33., 35., 37., 39., 41.],\n",
      "         [30., 32., 34., 36., 38., 40., 42.],\n",
      "         [43., 45., 47., 49., 51., 53., 55.],\n",
      "         [44., 46., 48., 50., 52., 54., 56.]]])\n",
      "\n",
      "Input tensor unfolded (transposed):\n",
      "shape:  torch.Size([1, 7, 8])\n",
      "tensor([[[ 1.,  2., 15., 16., 29., 30., 43., 44.],\n",
      "         [ 3.,  4., 17., 18., 31., 32., 45., 46.],\n",
      "         [ 5.,  6., 19., 20., 33., 34., 47., 48.],\n",
      "         [ 7.,  8., 21., 22., 35., 36., 49., 50.],\n",
      "         [ 9., 10., 23., 24., 37., 38., 51., 52.],\n",
      "         [11., 12., 25., 26., 39., 40., 53., 54.],\n",
      "         [13., 14., 27., 28., 41., 42., 55., 56.]]])\n",
      "\n",
      "Input tensor unfolded (transposed back):\n",
      "shape:  torch.Size([1, 8, 7])\n",
      "tensor([[[ 1.,  3.,  5.,  7.,  9., 11., 13.],\n",
      "         [ 2.,  4.,  6.,  8., 10., 12., 14.],\n",
      "         [15., 17., 19., 21., 23., 25., 27.],\n",
      "         [16., 18., 20., 22., 24., 26., 28.],\n",
      "         [29., 31., 33., 35., 37., 39., 41.],\n",
      "         [30., 32., 34., 36., 38., 40., 42.],\n",
      "         [43., 45., 47., 49., 51., 53., 55.],\n",
      "         [44., 46., 48., 50., 52., 54., 56.]]])\n",
      "\n",
      "Output tensor folded:\n",
      "shape:  torch.Size([1, 1, 4, 14])\n",
      "tensor([[[[ 1.,  2.,  3.,  4.,  5.,  6.,  7.,  8.,  9., 10., 11., 12., 13., 14.],\n",
      "          [15., 16., 17., 18., 19., 20., 21., 22., 23., 24., 25., 26., 27., 28.],\n",
      "          [29., 30., 31., 32., 33., 34., 35., 36., 37., 38., 39., 40., 41., 42.],\n",
      "          [43., 44., 45., 46., 47., 48., 49., 50., 51., 52., 53., 54., 55., 56.]]]])\n"
     ]
    }
   ],
   "source": [
    "# torch.nn.Unfold(kernel_size=(4, 2), stride=(4, 2)) corresponds to torch.nn.Unfold(kernel_size=(128, 2), stride=(128, 2)) \n",
    "# input shape:  torch.Size([1, 1, 4, 14]) corresponds to torch.Size([1, 1, 128, 998])\n",
    "# unfolded input shape (after transposing dimensions 1 and 2):  torch.Size([1, 7, 8]) corresponds to torch.Size([1, 499, 256])\n",
    "\n",
    "import torch\n",
    "unfold = torch.nn.Unfold(kernel_size=(4, 2), stride=(4, 2))\n",
    "\n",
    "# inverse operation of Unfold\n",
    "fold = torch.nn.Fold(output_size=(4, 14), kernel_size=(4, 2), stride=(4, 2)) # corresponds to torch.nn.Fold(output_size=(128, 998), kernel_size=(128, 2), stride=(128, 2))\n",
    "\n",
    "# Define the input tensor\n",
    "input_tensor = torch.tensor([[[[1, 2, 3, 4, 5, 6, 7, 8, 9, 10, 11, 12, 13, 14],\n",
    "                                [15, 16, 17, 18, 19, 20, 21, 22, 23, 24, 25, 26, 27, 28],\n",
    "                                [29, 30, 31, 32, 33, 34, 35, 36, 37, 38, 39, 40, 41, 42],\n",
    "                                [43, 44, 45, 46, 47, 48, 49, 50, 51, 52, 53, 54, 55, 56]]]], dtype=torch.float32)\n",
    "\n",
    "print(\"Input tensor:\")\n",
    "print(\"shape: \", input_tensor.shape)\n",
    "print(input_tensor)\n",
    "\n",
    "# Apply the Unfold operation\n",
    "input = unfold(input_tensor)\n",
    "\n",
    "print(\"\\nInput tensor unfolded:\")\n",
    "print(\"shape: \", input.shape)\n",
    "print(input)\n",
    "\n",
    "# Transpose the dimensions 1 and 2\n",
    "input = input.transpose(1, 2)\n",
    "\n",
    "print(\"\\nInput tensor unfolded (transposed):\")\n",
    "print(\"shape: \", input.shape)\n",
    "print(input)\n",
    "\n",
    "# Transpose back to original shape\n",
    "input = input.transpose(1, 2)\n",
    "\n",
    "print(\"\\nInput tensor unfolded (transposed back):\")\n",
    "print(\"shape: \", input.shape)\n",
    "print(input)\n",
    "\n",
    "# Apply the Fold operation\n",
    "output_tensor = fold(input)\n",
    "print(\"\\nOutput tensor folded:\")\n",
    "print(\"shape: \", output_tensor.shape)\n",
    "print(output_tensor)\n",
    "\n"
   ]
  },
  {
   "cell_type": "code",
   "execution_count": null,
   "metadata": {},
   "outputs": [],
   "source": []
  },
  {
   "cell_type": "code",
   "execution_count": null,
   "metadata": {},
   "outputs": [],
   "source": []
  },
  {
   "cell_type": "code",
   "execution_count": null,
   "metadata": {},
   "outputs": [],
   "source": []
  },
  {
   "cell_type": "code",
   "execution_count": null,
   "metadata": {},
   "outputs": [],
   "source": []
  },
  {
   "cell_type": "code",
   "execution_count": null,
   "metadata": {},
   "outputs": [],
   "source": []
  }
 ],
 "metadata": {
  "kernelspec": {
   "display_name": "Python 3",
   "language": "python",
   "name": "python3"
  },
  "language_info": {
   "codemirror_mode": {
    "name": "ipython",
    "version": 3
   },
   "file_extension": ".py",
   "mimetype": "text/x-python",
   "name": "python",
   "nbconvert_exporter": "python",
   "pygments_lexer": "ipython3",
   "version": "3.10.12"
  }
 },
 "nbformat": 4,
 "nbformat_minor": 2
}
